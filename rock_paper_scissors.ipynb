{
  "nbformat": 4,
  "nbformat_minor": 0,
  "metadata": {
    "colab": {
      "name": "rock_paper_scissors.ipynb",
      "provenance": [],
      "collapsed_sections": [],
      "authorship_tag": "ABX9TyMwSL4HXBNwc26eA/kD7Wki",
      "include_colab_link": true
    },
    "kernelspec": {
      "name": "python3",
      "display_name": "Python 3"
    },
    "language_info": {
      "name": "python"
    },
    "accelerator": "GPU",
    "gpuClass": "standard"
  },
  "cells": [
    {
      "cell_type": "markdown",
      "metadata": {
        "id": "view-in-github",
        "colab_type": "text"
      },
      "source": [
        "<a href=\"https://colab.research.google.com/github/erendagasan/keras-rock-paper-scissors-img-classification/blob/main/rock_paper_scissors.ipynb\" target=\"_parent\"><img src=\"https://colab.research.google.com/assets/colab-badge.svg\" alt=\"Open In Colab\"/></a>"
      ]
    },
    {
      "cell_type": "code",
      "execution_count": null,
      "metadata": {
        "id": "uJ3K4CQwj0Y9"
      },
      "outputs": [],
      "source": [
        "import tensorflow as tf\n",
        "from tensorflow import keras\n",
        "import tensorflow_datasets as tfds\n",
        "\n",
        "import numpy as np\n",
        "import pandas as pd\n",
        "import matplotlib.pyplot as plt"
      ]
    },
    {
      "cell_type": "markdown",
      "source": [
        "Get information from data"
      ],
      "metadata": {
        "id": "0yN5octwmAgx"
      }
    },
    {
      "cell_type": "code",
      "source": [
        "builder = tfds.builder(\"rock_paper_scissors\")\n",
        "builder.info"
      ],
      "metadata": {
        "colab": {
          "base_uri": "https://localhost:8080/"
        },
        "id": "-gV7kglUmDJH",
        "outputId": "c494c84a-4c4f-4174-f795-1a5b4bad9a14"
      },
      "execution_count": null,
      "outputs": [
        {
          "output_type": "execute_result",
          "data": {
            "text/plain": [
              "tfds.core.DatasetInfo(\n",
              "    name='rock_paper_scissors',\n",
              "    version=3.0.0,\n",
              "    description='Images of hands playing rock, paper, scissor game.',\n",
              "    homepage='http://laurencemoroney.com/rock-paper-scissors-dataset',\n",
              "    features=FeaturesDict({\n",
              "        'image': Image(shape=(300, 300, 3), dtype=tf.uint8),\n",
              "        'label': ClassLabel(shape=(), dtype=tf.int64, num_classes=3),\n",
              "    }),\n",
              "    total_num_examples=2892,\n",
              "    splits={\n",
              "        'test': 372,\n",
              "        'train': 2520,\n",
              "    },\n",
              "    supervised_keys=('image', 'label'),\n",
              "    citation=\"\"\"@ONLINE {rps,\n",
              "    author = \"Laurence Moroney\",\n",
              "    title = \"Rock, Paper, Scissors Dataset\",\n",
              "    month = \"feb\",\n",
              "    year = \"2019\",\n",
              "    url = \"http://laurencemoroney.com/rock-paper-scissors-dataset\"\n",
              "    }\"\"\",\n",
              "    redistribution_info=,\n",
              ")"
            ]
          },
          "metadata": {},
          "execution_count": 3
        }
      ]
    },
    {
      "cell_type": "markdown",
      "source": [
        "Load Datasets"
      ],
      "metadata": {
        "id": "CgD1JKgUypAa"
      }
    },
    {
      "cell_type": "code",
      "source": [
        "train_ds = tfds.load(name = \"rock_paper_scissors\", split=\"train\")\n",
        "test_ds = tfds.load(name = \"rock_paper_scissors\", split=\"test\")"
      ],
      "metadata": {
        "id": "9KqLtBdymNI-"
      },
      "execution_count": null,
      "outputs": []
    },
    {
      "cell_type": "markdown",
      "source": [
        "Get info about Datasets"
      ],
      "metadata": {
        "id": "cGwgzvlZyuIR"
      }
    },
    {
      "cell_type": "code",
      "source": [
        "fig = tfds.show_examples(info, train_ds)\n",
        "fig"
      ],
      "metadata": {
        "colab": {
          "base_uri": "https://localhost:8080/",
          "height": 182
        },
        "id": "D4-h90dknMCI",
        "outputId": "ce7c5425-346f-4982-c8f3-3770213ebc0f"
      },
      "execution_count": null,
      "outputs": [
        {
          "output_type": "error",
          "ename": "AttributeError",
          "evalue": "ignored",
          "traceback": [
            "\u001b[0;31m---------------------------------------------------------------------------\u001b[0m",
            "\u001b[0;31mAttributeError\u001b[0m                            Traceback (most recent call last)",
            "\u001b[0;32m<ipython-input-8-88502326a46d>\u001b[0m in \u001b[0;36m<module>\u001b[0;34m()\u001b[0m\n\u001b[0;32m----> 1\u001b[0;31m \u001b[0mfig\u001b[0m \u001b[0;34m=\u001b[0m \u001b[0mtfds\u001b[0m\u001b[0;34m.\u001b[0m\u001b[0mshow_examples\u001b[0m\u001b[0;34m(\u001b[0m\u001b[0mtrain_ds\u001b[0m\u001b[0;34m.\u001b[0m\u001b[0minfo\u001b[0m\u001b[0;34m,\u001b[0m \u001b[0mtrain_ds\u001b[0m\u001b[0;34m)\u001b[0m\u001b[0;34m\u001b[0m\u001b[0;34m\u001b[0m\u001b[0m\n\u001b[0m\u001b[1;32m      2\u001b[0m \u001b[0mfig\u001b[0m\u001b[0;34m\u001b[0m\u001b[0;34m\u001b[0m\u001b[0m\n",
            "\u001b[0;31mAttributeError\u001b[0m: 'PrefetchDataset' object has no attribute 'info'"
          ]
        }
      ]
    },
    {
      "cell_type": "markdown",
      "source": [
        "Convert tensor obj to a numpy array"
      ],
      "metadata": {
        "id": "JwcPUzHiyzWt"
      }
    },
    {
      "cell_type": "code",
      "source": [
        "train_images = np.array([example[\"image\"].numpy()[:,:,0] for example in train_ds])\n",
        "train_labels = np.array([example[\"label\"].numpy() for example in train_ds])\n",
        "\n",
        "test_images = np.array([example[\"image\"].numpy()[:,:,0] for example in test_ds])\n",
        "test_labels = np.array([example[\"label\"].numpy() for example in test_ds])"
      ],
      "metadata": {
        "id": "3UyBo0phn0ir"
      },
      "execution_count": null,
      "outputs": []
    },
    {
      "cell_type": "code",
      "source": [
        "train_images = train_images.reshape(2520,300,300,1)\n",
        "test_images = test_images.reshape(372,300,300,1)"
      ],
      "metadata": {
        "id": "3Go69cio1dbS"
      },
      "execution_count": null,
      "outputs": []
    },
    {
      "cell_type": "code",
      "source": [
        "train_images = train_images.astype(\"float32\")\n",
        "test_images = test_images.astype(\"float32\")\n",
        "\n",
        "train_images /= 255\n",
        "test_images /= 255"
      ],
      "metadata": {
        "id": "VXUFbSe_10OW"
      },
      "execution_count": null,
      "outputs": []
    },
    {
      "cell_type": "markdown",
      "source": [
        "Create NN"
      ],
      "metadata": {
        "id": "RigXwfEO2mn9"
      }
    },
    {
      "cell_type": "code",
      "source": [
        "model = keras.Sequential(\n",
        "    [\n",
        "    keras.layers.Flatten(),\n",
        "    keras.layers.Dense(512, activation=\"relu\"),\n",
        "    keras.layers.Dense(512, activation = \"relu\"),\n",
        "    keras.layers.Dense(3, activation = \"softmax\")     \n",
        "    ])\n",
        "\n",
        "model.compile(optimizer=\"adam\",\n",
        "              loss = keras.losses.SparseCategoricalCrossentropy(),\n",
        "              metrics = [\"accuracy\"])\n",
        "\n",
        "model.fit(train_images, train_labels, batch_size=32, epochs=10)"
      ],
      "metadata": {
        "colab": {
          "base_uri": "https://localhost:8080/"
        },
        "id": "yj3wer2Y0Pbl",
        "outputId": "a5246b83-37b8-447a-cf36-412f9eaf9b08"
      },
      "execution_count": null,
      "outputs": [
        {
          "output_type": "stream",
          "name": "stdout",
          "text": [
            "Epoch 1/10\n",
            "79/79 [==============================] - 20s 235ms/step - loss: 21.8985 - accuracy: 0.3905\n",
            "Epoch 2/10\n",
            "79/79 [==============================] - 19s 235ms/step - loss: 1.1244 - accuracy: 0.6484\n",
            "Epoch 3/10\n",
            "79/79 [==============================] - 19s 236ms/step - loss: 0.5928 - accuracy: 0.7532\n",
            "Epoch 4/10\n",
            "79/79 [==============================] - 19s 237ms/step - loss: 0.3751 - accuracy: 0.8690\n",
            "Epoch 5/10\n",
            "79/79 [==============================] - 19s 236ms/step - loss: 0.3880 - accuracy: 0.8516\n",
            "Epoch 6/10\n",
            "79/79 [==============================] - 19s 235ms/step - loss: 0.5501 - accuracy: 0.7774\n",
            "Epoch 7/10\n",
            "79/79 [==============================] - 18s 232ms/step - loss: 0.6244 - accuracy: 0.7921\n",
            "Epoch 8/10\n",
            "79/79 [==============================] - 19s 236ms/step - loss: 0.2373 - accuracy: 0.9127\n",
            "Epoch 9/10\n",
            "79/79 [==============================] - 19s 236ms/step - loss: 0.5622 - accuracy: 0.7929\n",
            "Epoch 10/10\n",
            "79/79 [==============================] - 19s 237ms/step - loss: 0.2470 - accuracy: 0.9171\n"
          ]
        },
        {
          "output_type": "execute_result",
          "data": {
            "text/plain": [
              "<keras.callbacks.History at 0x7f735f9c32d0>"
            ]
          },
          "metadata": {},
          "execution_count": 34
        }
      ]
    },
    {
      "cell_type": "code",
      "source": [
        "model.evaluate(test_images, test_labels)"
      ],
      "metadata": {
        "colab": {
          "base_uri": "https://localhost:8080/"
        },
        "id": "VmBPFYEy1L-s",
        "outputId": "635f413e-f2ad-45ef-d80e-9f6d779674d7"
      },
      "execution_count": null,
      "outputs": [
        {
          "output_type": "stream",
          "name": "stdout",
          "text": [
            "12/12 [==============================] - 1s 75ms/step - loss: 2.3223 - accuracy: 0.5806\n"
          ]
        },
        {
          "output_type": "execute_result",
          "data": {
            "text/plain": [
              "[2.32230544090271, 0.5806451439857483]"
            ]
          },
          "metadata": {},
          "execution_count": 35
        }
      ]
    },
    {
      "cell_type": "markdown",
      "source": [
        "Fully Connected NN approach didn't gave us the wanted accuracy"
      ],
      "metadata": {
        "id": "nEbI27Je6EV5"
      }
    },
    {
      "cell_type": "markdown",
      "source": [
        "Train a Network with CNN"
      ],
      "metadata": {
        "id": "WbTN0kOM6Odj"
      }
    },
    {
      "cell_type": "code",
      "source": [
        "model = keras.Sequential(\n",
        "    [\n",
        "keras.layers.Conv2D(64, (3, 3), activation='relu', input_shape=(300, 300, 1)),\n",
        "keras.layers.Conv2D(32, (3, 3), activation='relu'),\n",
        "keras.layers.Flatten(),\n",
        "keras.layers.Dense(3, activation='softmax')\n",
        "]\n",
        ")\n",
        "\n",
        "model.compile(optimizer='adam',\n",
        "              loss=tf.keras.losses.SparseCategoricalCrossentropy(),\n",
        "              metrics=['accuracy'])\n",
        "\n",
        "model.fit(train_images, train_labels, batch_size=32, epochs=10)"
      ],
      "metadata": {
        "id": "amCEyCH26CDM"
      },
      "execution_count": null,
      "outputs": []
    },
    {
      "cell_type": "code",
      "source": [
        "model.evaluate(test_images, test_labels)"
      ],
      "metadata": {
        "id": "M6mlIR_R6xHm"
      },
      "execution_count": null,
      "outputs": []
    },
    {
      "cell_type": "markdown",
      "source": [
        "We couldn't get the accuracy we want because of overfitting. "
      ],
      "metadata": {
        "id": "pWunuoSlBdd1"
      }
    },
    {
      "cell_type": "markdown",
      "source": [
        "Try a better connected NN"
      ],
      "metadata": {
        "id": "ooqTZ6GnBj51"
      }
    },
    {
      "cell_type": "code",
      "source": [
        "model = keras.Sequential(\n",
        "    [\n",
        "  keras.layers.AveragePooling2D(6, 3, input_shape=(300, 300, 1)),\n",
        "  keras.layers.Conv2D(32, (3, 3), activation='relu'),\n",
        "  keras.layers.MaxPool2D(2,2),\n",
        "  keras.layers.Conv2D(64, (3, 3), activation='relu'),\n",
        "  keras.layers.MaxPool2D(2,2),\n",
        "  keras.layers.Dropout(0.5),\n",
        "  keras.layers.Conv2D(64, (3, 3), activation='relu'),\n",
        "  keras.layers.Flatten(),\n",
        "  keras.layers.Dense(3, activation='softmax')\n",
        "]\n",
        ")\n",
        "\n",
        "model.compile(optimizer='adam',\n",
        "              loss=tf.keras.losses.SparseCategoricalCrossentropy(),\n",
        "              metrics=['accuracy'])\n",
        "\n",
        "model.fit(train_images, train_labels, batch_size=32, epochs=10)"
      ],
      "metadata": {
        "colab": {
          "base_uri": "https://localhost:8080/"
        },
        "id": "rCWbyIa-BX0l",
        "outputId": "4bd4fb10-3b2b-4738-f428-626c4d7ac6a7"
      },
      "execution_count": null,
      "outputs": [
        {
          "output_type": "stream",
          "name": "stdout",
          "text": [
            "Epoch 1/10\n",
            "79/79 [==============================] - 10s 18ms/step - loss: 0.7097 - accuracy: 0.6583\n",
            "Epoch 2/10\n",
            "79/79 [==============================] - 1s 16ms/step - loss: 0.1291 - accuracy: 0.9627\n",
            "Epoch 3/10\n",
            "79/79 [==============================] - 1s 16ms/step - loss: 0.0489 - accuracy: 0.9845\n",
            "Epoch 4/10\n",
            "79/79 [==============================] - 1s 16ms/step - loss: 0.0128 - accuracy: 0.9972\n",
            "Epoch 5/10\n",
            "79/79 [==============================] - 1s 16ms/step - loss: 0.0089 - accuracy: 0.9972\n",
            "Epoch 6/10\n",
            "79/79 [==============================] - 1s 16ms/step - loss: 0.0038 - accuracy: 0.9992\n",
            "Epoch 7/10\n",
            "79/79 [==============================] - 1s 16ms/step - loss: 0.0013 - accuracy: 1.0000\n",
            "Epoch 8/10\n",
            "79/79 [==============================] - 1s 16ms/step - loss: 6.5256e-04 - accuracy: 1.0000\n",
            "Epoch 9/10\n",
            "79/79 [==============================] - 1s 16ms/step - loss: 0.0033 - accuracy: 0.9984\n",
            "Epoch 10/10\n",
            "79/79 [==============================] - 1s 16ms/step - loss: 0.0040 - accuracy: 0.9992\n"
          ]
        },
        {
          "output_type": "execute_result",
          "data": {
            "text/plain": [
              "<keras.callbacks.History at 0x7f7abc1c9d10>"
            ]
          },
          "metadata": {},
          "execution_count": 12
        }
      ]
    },
    {
      "cell_type": "code",
      "source": [
        "model.evaluate(test_images, test_labels)"
      ],
      "metadata": {
        "colab": {
          "base_uri": "https://localhost:8080/"
        },
        "id": "gNp2CU8NB1uD",
        "outputId": "868cd1ac-e145-4403-c482-a3079bd6ef5b"
      },
      "execution_count": null,
      "outputs": [
        {
          "output_type": "stream",
          "name": "stdout",
          "text": [
            "12/12 [==============================] - 0s 20ms/step - loss: 1.1402 - accuracy: 0.7419\n"
          ]
        },
        {
          "output_type": "execute_result",
          "data": {
            "text/plain": [
              "[1.14020574092865, 0.7419354915618896]"
            ]
          },
          "metadata": {},
          "execution_count": 13
        }
      ]
    },
    {
      "cell_type": "markdown",
      "source": [
        "Plot"
      ],
      "metadata": {
        "id": "ZCce-bhQJPFx"
      }
    },
    {
      "cell_type": "code",
      "source": [
        "np.round(model.predict(np.array([test_images[20]])))"
      ],
      "metadata": {
        "colab": {
          "base_uri": "https://localhost:8080/"
        },
        "id": "Rpeaad20RnbU",
        "outputId": "512b396d-24c3-430e-8d05-8cb7dea4e4ef"
      },
      "execution_count": null,
      "outputs": [
        {
          "output_type": "execute_result",
          "data": {
            "text/plain": [
              "array([[0., 1., 0.]], dtype=float32)"
            ]
          },
          "metadata": {},
          "execution_count": 22
        }
      ]
    },
    {
      "cell_type": "code",
      "source": [
        "image = test_images[20].reshape(300,300)\n",
        "\n",
        "plt.imshow(image, cmap=\"Greys_r\")"
      ],
      "metadata": {
        "colab": {
          "base_uri": "https://localhost:8080/",
          "height": 286
        },
        "id": "QuhFemyoJU9H",
        "outputId": "87263175-5f3b-414d-d2cf-63778c2e6a3a"
      },
      "execution_count": null,
      "outputs": [
        {
          "output_type": "execute_result",
          "data": {
            "text/plain": [
              "<matplotlib.image.AxesImage at 0x7f7aa7113390>"
            ]
          },
          "metadata": {},
          "execution_count": 24
        },
        {
          "output_type": "display_data",
          "data": {
            "text/plain": [
              "<Figure size 432x288 with 1 Axes>"
            ],
            "image/png": "[encoded data removed]"
          },
          "metadata": {
            "needs_background": "light"
          }
        }
      ]
    },
    {
      "cell_type": "code",
      "source": [
        "rgb_images = np.array([example[\"image\"].numpy() for example in train_ds.take(1)])\n",
        "rgb_image = rgb_images[0]\n",
        "\n",
        "plt.imshow(rgb_image)"
      ],
      "metadata": {
        "colab": {
          "base_uri": "https://localhost:8080/",
          "height": 286
        },
        "id": "bIDjZ0_rT2wJ",
        "outputId": "c10ccad5-3561-439c-9cbc-bc8d4f3de427"
      },
      "execution_count": null,
      "outputs": [
        {
          "output_type": "execute_result",
          "data": {
            "text/plain": [
              "<matplotlib.image.AxesImage at 0x7f7aa7f24ed0>"
            ]
          },
          "metadata": {},
          "execution_count": 36
        },
        {
          "output_type": "display_data",
          "data": {
            "text/plain": [
              "<Figure size 432x288 with 1 Axes>"
            ],
            "image/png": "[encoded data removed]"
          },
          "metadata": {
            "needs_background": "light"
          }
        }
      ]
    },
    {
      "cell_type": "markdown",
      "source": [
        "Convert PNG/JPG images to Numpy Format"
      ],
      "metadata": {
        "id": "HnUvxHxsSWQz"
      }
    },
    {
      "cell_type": "code",
      "source": [
        "import imageio\n",
        "\n",
        "im = imageio.imread(\"https://upload.wikimedia.org/wikipedia/commons/thumb/a/af/Rock-paper-scissors_%28paper%29.png/1200px-Rock-paper-scissors_%28paper%29.png\")\n",
        "\n",
        "im_np = np.asarray([im])\n",
        "im_np.shape"
      ],
      "metadata": {
        "colab": {
          "base_uri": "https://localhost:8080/"
        },
        "id": "e5TIXEHgRKWq",
        "outputId": "dd613702-2701-4587-e4fc-cf5bc61a3438"
      },
      "execution_count": null,
      "outputs": [
        {
          "output_type": "execute_result",
          "data": {
            "text/plain": [
              "(1, 1200, 1200, 4)"
            ]
          },
          "metadata": {},
          "execution_count": 54
        }
      ]
    },
    {
      "cell_type": "code",
      "source": [
        ""
      ],
      "metadata": {
        "id": "AT7jreX8S5vW"
      },
      "execution_count": null,
      "outputs": []
    }
  ]
}